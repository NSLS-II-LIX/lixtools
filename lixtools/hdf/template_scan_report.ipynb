{
 "cells": [
  {
   "cell_type": "code",
   "execution_count": null,
   "id": "16680410-a9c1-4c6f-adee-41a1e43e76ef",
   "metadata": {},
   "outputs": [],
   "source": [
    "%matplotlib inline\n",
    "from lixtools.hdf import h5xs_scan\n",
    "import pylab as plt\n",
    "import numpy as np\n",
    "from dask.distributed import Client\n",
    "from IPython.display import display,HTML\n",
    "import warnings\n",
    "\n",
    "warnings.filterwarnings('ignore')\n",
    "\n",
    "fn = \"00template00.h5\"\n",
    "dt = h5xs_scan(fn)\n",
    "dt.load_data()\n",
    "\n",
    "client = Client(n_workers=8)\n",
    "\n",
    "# show averaged data, pick up to 3 raw data files\n",
    "samples = list(dt.h5xs.keys())\n",
    "N = 1\n",
    "if len(samples)>4:\n",
    "    N = 2\n",
    "if len(samples)>7:\n",
    "    N = 3\n",
    "for i in np.linspace(0,len(samples)-1,N, dtype=int):\n",
    "    sn = samples[i]\n",
    "    print(f\"plotting {sn} ...\")\n",
    "    #display(HTML(sn))\n",
    "    fig = plt.figure(figsize=(11,5))\n",
    "    dt.h5xs[sn].show_data(frn=\"average\", fig=fig, showRef=None, cmap='jet', client=client)\n",
    "    plt.show()\n",
    "\n",
    "if len(samples)>1:\n",
    "    sn = \"overall\"\n",
    "else:\n",
    "    sn = samples[0]\n",
    "# show the maps, two or three per row\n",
    "asp = {\"maps\": \"auto\", \"tomo\": 1}\n",
    "for k in [\"maps\", \"tomo\"]:\n",
    "    print(\"\\n\\n\", k)\n",
    "    sks = list(dt.proc_data[sn][k].keys())\n",
    "    if \"transmission\" in sks:\n",
    "        sks.remove(\"transmission\")   # go with absoprtion instead\n",
    "    nsk = len(sks)\n",
    "    if nsk>4:\n",
    "        nc = 3\n",
    "    else:\n",
    "        nc = 2\n",
    "    nr = int(np.ceil(nsk/nc))\n",
    "    fig = plt.figure(figsize=(nc*5, nr*5))\n",
    "    for i in range(nsk):\n",
    "        ax = fig.add_subplot(nr, nc, i+1)\n",
    "        dt.proc_data[sn][k][sks[i]].plot(ax=ax, aspect=asp[k], cmap='jet')\n",
    "        ax.set_title(sks[i])\n",
    "    plt.subplots_adjust(wspace=0.375, hspace=0.375)\n",
    "    plt.show()"
   ]
  }
 ],
 "metadata": {
  "kernelspec": {
   "display_name": "Python 3",
   "language": "python",
   "name": "python3"
  },
  "language_info": {
   "codemirror_mode": {
    "name": "ipython",
    "version": 3
   },
   "file_extension": ".py",
   "mimetype": "text/x-python",
   "name": "python",
   "nbconvert_exporter": "python",
   "pygments_lexer": "ipython3",
   "version": "3.9.12"
  }
 },
 "nbformat": 4,
 "nbformat_minor": 5
}
