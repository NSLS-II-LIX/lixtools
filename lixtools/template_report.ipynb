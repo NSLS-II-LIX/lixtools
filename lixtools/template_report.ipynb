{
 "cells": [
  {
   "cell_type": "code",
   "execution_count": null,
   "metadata": {},
   "outputs": [],
   "source": [
    "%matplotlib inline\n",
    "from lixtools.hdf import h5sol_HT\n",
    "from lixtools.atsas import gen_atsas_report\n",
    "import pylab as plt\n",
    "from IPython.display import display,HTML\n",
    "import warnings\n",
    "\n",
    "warnings.filterwarnings('ignore')\n",
    "\n",
    "atsas_path = \"00atsas_path00\"\n",
    "fn = \"00template00.h5\"\n",
    "dt = h5sol_HT(fn)\n",
    "dt.load_d1s()\n",
    "for sn in list(dt.buffer_list.keys()):\n",
    "    display(HTML(f'<h3>{sn}</h3>'))\n",
    "    sf = dt.attrs[sn]['sc_factor']\n",
    "    if sf>1.1 or sf<0.9:\n",
    "        display(HTML(f\"unusual scaling factor for buffer subtration: {sf}, check the data\"))\n",
    "        continue\n",
    "    fig = plt.figure(figsize=(8, 2.8))\n",
    "    gen_atsas_report(dt.d1s[sn][\"subtracted\"], sn=sn, fig=fig, \n",
    "                     skip=-1, q_cutoff=-1, plot_full_q_range=True, path=atsas_path)\n",
    "    plt.show()"
   ]
  }
 ],
 "metadata": {
  "kernelspec": {
   "display_name": "Python 3",
   "language": "python",
   "name": "python3"
  },
  "language_info": {
   "codemirror_mode": {
    "name": "ipython",
    "version": 3
   },
   "file_extension": ".py",
   "mimetype": "text/x-python",
   "name": "python",
   "nbconvert_exporter": "python",
   "pygments_lexer": "ipython3",
   "version": "3.7.12"
  }
 },
 "nbformat": 4,
 "nbformat_minor": 4
}
