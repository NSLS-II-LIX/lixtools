{
 "cells": [
  {
   "cell_type": "code",
   "execution_count": null,
   "metadata": {},
   "outputs": [],
   "source": [
    "%matplotlib inline\n",
    "from lixtools.hdf import h5sol_HT\n",
    "from lixtools.atsas import gen_atsas_report\n",
    "import pylab as plt\n",
    "\n",
    "fn = \"00template00.h5\"\n",
    "dt = h5sol_HT(fn)\n",
    "dt.load_d1s()\n",
    "for sn in list(dt.buffer_list.keys()):\n",
    "    print(f\"sample name: {sn}\")\n",
    "    fig = plt.figure(figsize=(8, 2.8))\n",
    "    gen_atsas_report(dt.d1s[sn][\"subtracted\"], sn=sn, fig=fig, \n",
    "                     skip=-1, q_cutoff=-1, plot_full_q_range=True)\n",
    "    plt.show()"
   ]
  }
 ],
 "metadata": {
  "kernelspec": {
   "display_name": "Python 3",
   "language": "python",
   "name": "python3"
  },
  "language_info": {
   "codemirror_mode": {
    "name": "ipython",
    "version": 3
   },
   "file_extension": ".py",
   "mimetype": "text/x-python",
   "name": "python",
   "nbconvert_exporter": "python",
   "pygments_lexer": "ipython3",
   "version": "3.7.9"
  }
 },
 "nbformat": 4,
 "nbformat_minor": 4
}
